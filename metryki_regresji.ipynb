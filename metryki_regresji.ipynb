{
  "nbformat": 4,
  "nbformat_minor": 0,
  "metadata": {
    "colab": {
      "provenance": [],
      "authorship_tag": "ABX9TyNMGHMiBFC65EQs5l87skwX",
      "include_colab_link": true
    },
    "kernelspec": {
      "name": "python3",
      "display_name": "Python 3"
    },
    "language_info": {
      "name": "python"
    }
  },
  "cells": [
    {
      "cell_type": "markdown",
      "metadata": {
        "id": "view-in-github",
        "colab_type": "text"
      },
      "source": [
        "<a href=\"https://colab.research.google.com/github/czyz-patryk/dataScience/blob/main/metryki_regresji.ipynb\" target=\"_parent\"><img src=\"https://colab.research.google.com/assets/colab-badge.svg\" alt=\"Open In Colab\"/></a>"
      ]
    },
    {
      "cell_type": "code",
      "execution_count": 1,
      "metadata": {
        "id": "pMGrGsCzUtPP"
      },
      "outputs": [],
      "source": [
        "import numpy as np\n",
        "import pandas as pd\n",
        "import plotly.express as px\n",
        "import plotly.graph_objects as go"
      ]
    },
    {
      "cell_type": "code",
      "source": [
        "y_true = 100 + 20 * np.random.randn(50)\n",
        "y_true"
      ],
      "metadata": {
        "colab": {
          "base_uri": "https://localhost:8080/"
        },
        "id": "DHNnDmCMU85W",
        "outputId": "582b9d51-2d6d-4bcd-d40f-1558be99a389"
      },
      "execution_count": 2,
      "outputs": [
        {
          "output_type": "execute_result",
          "data": {
            "text/plain": [
              "array([ 65.56780982,  94.89372903,  96.34171114,  64.75042091,\n",
              "       102.35511434, 113.25871611,  85.47549618, 122.50781654,\n",
              "       104.83421324,  97.35925059,  85.5270961 ,  78.73550017,\n",
              "       155.66508292, 120.35790699, 110.684781  ,  88.36227386,\n",
              "       156.62946024, 132.01747123, 104.70625751,  75.69714718,\n",
              "       105.04342203, 125.58185678, 113.46424957,  99.74148898,\n",
              "       128.32377106,  74.61577948,  97.29493766,  68.68919797,\n",
              "       108.35892972, 106.0126811 , 118.5434641 ,  78.20228714,\n",
              "        99.82452467, 130.22112684,  94.05895485,  96.72745068,\n",
              "       105.43658559, 113.32924153,  78.61732569,  98.07025476,\n",
              "        71.71414332,  85.25771356,  96.33726018,  86.32814702,\n",
              "       129.54534547, 127.38261728, 114.51720828, 121.86775099,\n",
              "        94.55560271, 143.17780527])"
            ]
          },
          "metadata": {},
          "execution_count": 2
        }
      ]
    },
    {
      "cell_type": "code",
      "source": [
        "y_pred = y_true + 10 * np.random.randn(50)\n",
        "y_pred"
      ],
      "metadata": {
        "colab": {
          "base_uri": "https://localhost:8080/"
        },
        "id": "f-hUJlaJVDHe",
        "outputId": "98c4517e-d5e3-4197-f90b-74d6367787df"
      },
      "execution_count": 3,
      "outputs": [
        {
          "output_type": "execute_result",
          "data": {
            "text/plain": [
              "array([ 80.15435447,  93.14110071,  98.08673013,  55.69251223,\n",
              "        98.54944399, 123.67461077,  91.47099828, 137.77110967,\n",
              "        96.08535297, 105.88723641,  85.65230136,  99.42560936,\n",
              "       137.19529383, 114.48225225, 117.48306364,  91.43424248,\n",
              "       173.45088548, 114.82402085, 109.20108502,  66.02635513,\n",
              "        79.85337906, 134.23605014, 123.23805794, 110.88453433,\n",
              "       121.32788687,  92.53079964, 106.91096126,  73.34010646,\n",
              "        98.78102606, 106.48801614, 108.72211985,  69.65251922,\n",
              "       102.6162978 , 122.64098995,  89.2727956 ,  85.42399819,\n",
              "        73.43185767, 117.95513482,  93.67643141,  87.39290526,\n",
              "        82.67423404,  88.12588522,  93.821476  ,  83.63820355,\n",
              "       113.19414023, 138.86138665, 115.4644116 , 107.67625208,\n",
              "        83.11104402, 148.9255364 ])"
            ]
          },
          "metadata": {},
          "execution_count": 3
        }
      ]
    },
    {
      "cell_type": "code",
      "source": [
        "results = pd.DataFrame({'y_true': y_true, 'y_pred': y_pred})\n",
        "results.head()"
      ],
      "metadata": {
        "colab": {
          "base_uri": "https://localhost:8080/",
          "height": 206
        },
        "id": "DB_ohXYbVIrS",
        "outputId": "ca57db77-c7a8-437e-a03a-e82d811451e1"
      },
      "execution_count": 4,
      "outputs": [
        {
          "output_type": "execute_result",
          "data": {
            "text/plain": [
              "       y_true     y_pred\n",
              "0   65.567810  80.154354\n",
              "1   94.893729  93.141101\n",
              "2   96.341711  98.086730\n",
              "3   64.750421  55.692512\n",
              "4  102.355114  98.549444"
            ],
            "text/html": [
              "\n",
              "  <div id=\"df-b56ba02c-eead-4658-96fa-225526bc3d4d\">\n",
              "    <div class=\"colab-df-container\">\n",
              "      <div>\n",
              "<style scoped>\n",
              "    .dataframe tbody tr th:only-of-type {\n",
              "        vertical-align: middle;\n",
              "    }\n",
              "\n",
              "    .dataframe tbody tr th {\n",
              "        vertical-align: top;\n",
              "    }\n",
              "\n",
              "    .dataframe thead th {\n",
              "        text-align: right;\n",
              "    }\n",
              "</style>\n",
              "<table border=\"1\" class=\"dataframe\">\n",
              "  <thead>\n",
              "    <tr style=\"text-align: right;\">\n",
              "      <th></th>\n",
              "      <th>y_true</th>\n",
              "      <th>y_pred</th>\n",
              "    </tr>\n",
              "  </thead>\n",
              "  <tbody>\n",
              "    <tr>\n",
              "      <th>0</th>\n",
              "      <td>65.567810</td>\n",
              "      <td>80.154354</td>\n",
              "    </tr>\n",
              "    <tr>\n",
              "      <th>1</th>\n",
              "      <td>94.893729</td>\n",
              "      <td>93.141101</td>\n",
              "    </tr>\n",
              "    <tr>\n",
              "      <th>2</th>\n",
              "      <td>96.341711</td>\n",
              "      <td>98.086730</td>\n",
              "    </tr>\n",
              "    <tr>\n",
              "      <th>3</th>\n",
              "      <td>64.750421</td>\n",
              "      <td>55.692512</td>\n",
              "    </tr>\n",
              "    <tr>\n",
              "      <th>4</th>\n",
              "      <td>102.355114</td>\n",
              "      <td>98.549444</td>\n",
              "    </tr>\n",
              "  </tbody>\n",
              "</table>\n",
              "</div>\n",
              "      <button class=\"colab-df-convert\" onclick=\"convertToInteractive('df-b56ba02c-eead-4658-96fa-225526bc3d4d')\"\n",
              "              title=\"Convert this dataframe to an interactive table.\"\n",
              "              style=\"display:none;\">\n",
              "        \n",
              "  <svg xmlns=\"http://www.w3.org/2000/svg\" height=\"24px\"viewBox=\"0 0 24 24\"\n",
              "       width=\"24px\">\n",
              "    <path d=\"M0 0h24v24H0V0z\" fill=\"none\"/>\n",
              "    <path d=\"M18.56 5.44l.94 2.06.94-2.06 2.06-.94-2.06-.94-.94-2.06-.94 2.06-2.06.94zm-11 1L8.5 8.5l.94-2.06 2.06-.94-2.06-.94L8.5 2.5l-.94 2.06-2.06.94zm10 10l.94 2.06.94-2.06 2.06-.94-2.06-.94-.94-2.06-.94 2.06-2.06.94z\"/><path d=\"M17.41 7.96l-1.37-1.37c-.4-.4-.92-.59-1.43-.59-.52 0-1.04.2-1.43.59L10.3 9.45l-7.72 7.72c-.78.78-.78 2.05 0 2.83L4 21.41c.39.39.9.59 1.41.59.51 0 1.02-.2 1.41-.59l7.78-7.78 2.81-2.81c.8-.78.8-2.07 0-2.86zM5.41 20L4 18.59l7.72-7.72 1.47 1.35L5.41 20z\"/>\n",
              "  </svg>\n",
              "      </button>\n",
              "      \n",
              "  <style>\n",
              "    .colab-df-container {\n",
              "      display:flex;\n",
              "      flex-wrap:wrap;\n",
              "      gap: 12px;\n",
              "    }\n",
              "\n",
              "    .colab-df-convert {\n",
              "      background-color: #E8F0FE;\n",
              "      border: none;\n",
              "      border-radius: 50%;\n",
              "      cursor: pointer;\n",
              "      display: none;\n",
              "      fill: #1967D2;\n",
              "      height: 32px;\n",
              "      padding: 0 0 0 0;\n",
              "      width: 32px;\n",
              "    }\n",
              "\n",
              "    .colab-df-convert:hover {\n",
              "      background-color: #E2EBFA;\n",
              "      box-shadow: 0px 1px 2px rgba(60, 64, 67, 0.3), 0px 1px 3px 1px rgba(60, 64, 67, 0.15);\n",
              "      fill: #174EA6;\n",
              "    }\n",
              "\n",
              "    [theme=dark] .colab-df-convert {\n",
              "      background-color: #3B4455;\n",
              "      fill: #D2E3FC;\n",
              "    }\n",
              "\n",
              "    [theme=dark] .colab-df-convert:hover {\n",
              "      background-color: #434B5C;\n",
              "      box-shadow: 0px 1px 3px 1px rgba(0, 0, 0, 0.15);\n",
              "      filter: drop-shadow(0px 1px 2px rgba(0, 0, 0, 0.3));\n",
              "      fill: #FFFFFF;\n",
              "    }\n",
              "  </style>\n",
              "\n",
              "      <script>\n",
              "        const buttonEl =\n",
              "          document.querySelector('#df-b56ba02c-eead-4658-96fa-225526bc3d4d button.colab-df-convert');\n",
              "        buttonEl.style.display =\n",
              "          google.colab.kernel.accessAllowed ? 'block' : 'none';\n",
              "\n",
              "        async function convertToInteractive(key) {\n",
              "          const element = document.querySelector('#df-b56ba02c-eead-4658-96fa-225526bc3d4d');\n",
              "          const dataTable =\n",
              "            await google.colab.kernel.invokeFunction('convertToInteractive',\n",
              "                                                     [key], {});\n",
              "          if (!dataTable) return;\n",
              "\n",
              "          const docLinkHtml = 'Like what you see? Visit the ' +\n",
              "            '<a target=\"_blank\" href=https://colab.research.google.com/notebooks/data_table.ipynb>data table notebook</a>'\n",
              "            + ' to learn more about interactive tables.';\n",
              "          element.innerHTML = '';\n",
              "          dataTable['output_type'] = 'display_data';\n",
              "          await google.colab.output.renderOutput(dataTable, element);\n",
              "          const docLink = document.createElement('div');\n",
              "          docLink.innerHTML = docLinkHtml;\n",
              "          element.appendChild(docLink);\n",
              "        }\n",
              "      </script>\n",
              "    </div>\n",
              "  </div>\n",
              "  "
            ]
          },
          "metadata": {},
          "execution_count": 4
        }
      ]
    },
    {
      "cell_type": "code",
      "source": [
        "results['error'] = results['y_true'] - results['y_pred']\n",
        "results.head()"
      ],
      "metadata": {
        "colab": {
          "base_uri": "https://localhost:8080/",
          "height": 206
        },
        "id": "FzvnuN-xVggt",
        "outputId": "89dd0cae-7aa7-4175-d70b-9fb9f14e3dbd"
      },
      "execution_count": 6,
      "outputs": [
        {
          "output_type": "execute_result",
          "data": {
            "text/plain": [
              "       y_true     y_pred      error\n",
              "0   65.567810  80.154354 -14.586545\n",
              "1   94.893729  93.141101   1.752628\n",
              "2   96.341711  98.086730  -1.745019\n",
              "3   64.750421  55.692512   9.057909\n",
              "4  102.355114  98.549444   3.805670"
            ],
            "text/html": [
              "\n",
              "  <div id=\"df-b98fd20e-f9b9-4f50-8627-cae5f18e1e30\">\n",
              "    <div class=\"colab-df-container\">\n",
              "      <div>\n",
              "<style scoped>\n",
              "    .dataframe tbody tr th:only-of-type {\n",
              "        vertical-align: middle;\n",
              "    }\n",
              "\n",
              "    .dataframe tbody tr th {\n",
              "        vertical-align: top;\n",
              "    }\n",
              "\n",
              "    .dataframe thead th {\n",
              "        text-align: right;\n",
              "    }\n",
              "</style>\n",
              "<table border=\"1\" class=\"dataframe\">\n",
              "  <thead>\n",
              "    <tr style=\"text-align: right;\">\n",
              "      <th></th>\n",
              "      <th>y_true</th>\n",
              "      <th>y_pred</th>\n",
              "      <th>error</th>\n",
              "    </tr>\n",
              "  </thead>\n",
              "  <tbody>\n",
              "    <tr>\n",
              "      <th>0</th>\n",
              "      <td>65.567810</td>\n",
              "      <td>80.154354</td>\n",
              "      <td>-14.586545</td>\n",
              "    </tr>\n",
              "    <tr>\n",
              "      <th>1</th>\n",
              "      <td>94.893729</td>\n",
              "      <td>93.141101</td>\n",
              "      <td>1.752628</td>\n",
              "    </tr>\n",
              "    <tr>\n",
              "      <th>2</th>\n",
              "      <td>96.341711</td>\n",
              "      <td>98.086730</td>\n",
              "      <td>-1.745019</td>\n",
              "    </tr>\n",
              "    <tr>\n",
              "      <th>3</th>\n",
              "      <td>64.750421</td>\n",
              "      <td>55.692512</td>\n",
              "      <td>9.057909</td>\n",
              "    </tr>\n",
              "    <tr>\n",
              "      <th>4</th>\n",
              "      <td>102.355114</td>\n",
              "      <td>98.549444</td>\n",
              "      <td>3.805670</td>\n",
              "    </tr>\n",
              "  </tbody>\n",
              "</table>\n",
              "</div>\n",
              "      <button class=\"colab-df-convert\" onclick=\"convertToInteractive('df-b98fd20e-f9b9-4f50-8627-cae5f18e1e30')\"\n",
              "              title=\"Convert this dataframe to an interactive table.\"\n",
              "              style=\"display:none;\">\n",
              "        \n",
              "  <svg xmlns=\"http://www.w3.org/2000/svg\" height=\"24px\"viewBox=\"0 0 24 24\"\n",
              "       width=\"24px\">\n",
              "    <path d=\"M0 0h24v24H0V0z\" fill=\"none\"/>\n",
              "    <path d=\"M18.56 5.44l.94 2.06.94-2.06 2.06-.94-2.06-.94-.94-2.06-.94 2.06-2.06.94zm-11 1L8.5 8.5l.94-2.06 2.06-.94-2.06-.94L8.5 2.5l-.94 2.06-2.06.94zm10 10l.94 2.06.94-2.06 2.06-.94-2.06-.94-.94-2.06-.94 2.06-2.06.94z\"/><path d=\"M17.41 7.96l-1.37-1.37c-.4-.4-.92-.59-1.43-.59-.52 0-1.04.2-1.43.59L10.3 9.45l-7.72 7.72c-.78.78-.78 2.05 0 2.83L4 21.41c.39.39.9.59 1.41.59.51 0 1.02-.2 1.41-.59l7.78-7.78 2.81-2.81c.8-.78.8-2.07 0-2.86zM5.41 20L4 18.59l7.72-7.72 1.47 1.35L5.41 20z\"/>\n",
              "  </svg>\n",
              "      </button>\n",
              "      \n",
              "  <style>\n",
              "    .colab-df-container {\n",
              "      display:flex;\n",
              "      flex-wrap:wrap;\n",
              "      gap: 12px;\n",
              "    }\n",
              "\n",
              "    .colab-df-convert {\n",
              "      background-color: #E8F0FE;\n",
              "      border: none;\n",
              "      border-radius: 50%;\n",
              "      cursor: pointer;\n",
              "      display: none;\n",
              "      fill: #1967D2;\n",
              "      height: 32px;\n",
              "      padding: 0 0 0 0;\n",
              "      width: 32px;\n",
              "    }\n",
              "\n",
              "    .colab-df-convert:hover {\n",
              "      background-color: #E2EBFA;\n",
              "      box-shadow: 0px 1px 2px rgba(60, 64, 67, 0.3), 0px 1px 3px 1px rgba(60, 64, 67, 0.15);\n",
              "      fill: #174EA6;\n",
              "    }\n",
              "\n",
              "    [theme=dark] .colab-df-convert {\n",
              "      background-color: #3B4455;\n",
              "      fill: #D2E3FC;\n",
              "    }\n",
              "\n",
              "    [theme=dark] .colab-df-convert:hover {\n",
              "      background-color: #434B5C;\n",
              "      box-shadow: 0px 1px 3px 1px rgba(0, 0, 0, 0.15);\n",
              "      filter: drop-shadow(0px 1px 2px rgba(0, 0, 0, 0.3));\n",
              "      fill: #FFFFFF;\n",
              "    }\n",
              "  </style>\n",
              "\n",
              "      <script>\n",
              "        const buttonEl =\n",
              "          document.querySelector('#df-b98fd20e-f9b9-4f50-8627-cae5f18e1e30 button.colab-df-convert');\n",
              "        buttonEl.style.display =\n",
              "          google.colab.kernel.accessAllowed ? 'block' : 'none';\n",
              "\n",
              "        async function convertToInteractive(key) {\n",
              "          const element = document.querySelector('#df-b98fd20e-f9b9-4f50-8627-cae5f18e1e30');\n",
              "          const dataTable =\n",
              "            await google.colab.kernel.invokeFunction('convertToInteractive',\n",
              "                                                     [key], {});\n",
              "          if (!dataTable) return;\n",
              "\n",
              "          const docLinkHtml = 'Like what you see? Visit the ' +\n",
              "            '<a target=\"_blank\" href=https://colab.research.google.com/notebooks/data_table.ipynb>data table notebook</a>'\n",
              "            + ' to learn more about interactive tables.';\n",
              "          element.innerHTML = '';\n",
              "          dataTable['output_type'] = 'display_data';\n",
              "          await google.colab.output.renderOutput(dataTable, element);\n",
              "          const docLink = document.createElement('div');\n",
              "          docLink.innerHTML = docLinkHtml;\n",
              "          element.appendChild(docLink);\n",
              "        }\n",
              "      </script>\n",
              "    </div>\n",
              "  </div>\n",
              "  "
            ]
          },
          "metadata": {},
          "execution_count": 6
        }
      ]
    },
    {
      "cell_type": "code",
      "source": [
        "def plot_regression_results(y_true, y_pred):\n",
        "  results = pd.DataFrame({'y_true': y_true, 'y_pred': y_pred})\n",
        "  min = results[['y_true', 'y_pred']].min().min()\n",
        "  max = results[['y_true', 'y_pred']].max().max()\n",
        "\n",
        "  fig = go.Figure(data=[go.Scatter(x=results['y_true'], y=results['y_pred'], mode='markers'),\n",
        "                        go.Scatter(x=[min, max], y=[min, max])],\n",
        "                  layout=go.Layout(showlegend=False, width=800,\n",
        "                                   xaxis_title='y_true',\n",
        "                                   yaxis_title='y_pred',\n",
        "                                   title='Regression results'))\n",
        "  fig.show()\n",
        "plot_regression_results(y_true, y_pred)"
      ],
      "metadata": {
        "colab": {
          "base_uri": "https://localhost:8080/",
          "height": 562
        },
        "id": "Q84qqfnPWvnu",
        "outputId": "c160c288-882b-4d20-85af-8100a98ac0ea"
      },
      "execution_count": 7,
      "outputs": [
        {
          "output_type": "display_data",
          "data": {
            "text/html": [
              "<html>\n",
              "<head><meta charset=\"utf-8\" /></head>\n",
              "<body>\n",
              "    <div>            <script src=\"https://cdnjs.cloudflare.com/ajax/libs/mathjax/2.7.5/MathJax.js?config=TeX-AMS-MML_SVG\"></script><script type=\"text/javascript\">if (window.MathJax) {MathJax.Hub.Config({SVG: {font: \"STIX-Web\"}});}</script>                <script type=\"text/javascript\">window.PlotlyConfig = {MathJaxConfig: 'local'};</script>\n",
              "        <script src=\"https://cdn.plot.ly/plotly-2.8.3.min.js\"></script>                <div id=\"3c1ffe62-fa3c-4f87-be11-e5861444f9e5\" class=\"plotly-graph-div\" style=\"height:525px; width:800px;\"></div>            <script type=\"text/javascript\">                                    window.PLOTLYENV=window.PLOTLYENV || {};                                    if (document.getElementById(\"3c1ffe62-fa3c-4f87-be11-e5861444f9e5\")) {                    Plotly.newPlot(                        \"3c1ffe62-fa3c-4f87-be11-e5861444f9e5\",                        [{\"mode\":\"markers\",\"x\":[65.56780982317478,94.89372902806402,96.34171113698619,64.7504209071198,102.35511433907155,113.25871610760653,85.47549617981085,122.50781654476543,104.83421323940334,97.35925058653726,85.527096098165,78.73550017369234,155.66508291892686,120.35790699368249,110.68478100261035,88.36227385589328,156.6294602407682,132.01747122892283,104.70625751071121,75.6971471765538,105.0434220263937,125.58185677780654,113.46424957468815,99.74148897569617,128.3237710600644,74.61577948128837,97.29493765588727,68.68919796637982,108.35892972235014,106.01268110000484,118.54346409741798,78.2022871402601,99.82452466536571,130.22112684051584,94.05895485155955,96.72745067840347,105.43658559373192,113.3292415309258,78.61732568777786,98.0702547620318,71.71414332307593,85.25771356032917,96.33726018270048,86.32814702073486,129.54534546760095,127.38261728038245,114.51720827927159,121.86775098829874,94.55560271061951,143.17780527305024],\"y\":[80.15435447335196,93.14110071315213,98.08673013009964,55.69251223409765,98.54944399135024,123.6746107732055,91.4709982836429,137.7711096677218,96.08535297076267,105.88723640631541,85.65230136442361,99.42560935731555,137.19529382688071,114.48225225494863,117.48306364337338,91.43424247533233,173.45088548300265,114.8240208529119,109.20108502203183,66.02635512992273,79.85337906305915,134.23605014323863,123.23805793813716,110.88453432771085,121.32788686849403,92.530799644894,106.91096126304518,73.3401064569511,98.78102606391565,106.48801614156176,108.72211984875042,69.65251922352337,102.6162977966484,122.6409899519811,89.27279559933949,85.42399819183403,73.43185767454965,117.95513481954272,93.67643141335778,87.39290526210515,82.6742340399596,88.12588522456483,93.82147600337036,83.63820355407067,113.19414022883905,138.86138664557885,115.4644115965327,107.67625207875334,83.11104401696353,148.92553639681913],\"type\":\"scatter\"},{\"x\":[55.69251223409765,173.45088548300265],\"y\":[55.69251223409765,173.45088548300265],\"type\":\"scatter\"}],                        {\"showlegend\":false,\"title\":{\"text\":\"Regression results\"},\"width\":800,\"xaxis\":{\"title\":{\"text\":\"y_true\"}},\"yaxis\":{\"title\":{\"text\":\"y_pred\"}},\"template\":{\"data\":{\"bar\":[{\"error_x\":{\"color\":\"#2a3f5f\"},\"error_y\":{\"color\":\"#2a3f5f\"},\"marker\":{\"line\":{\"color\":\"#E5ECF6\",\"width\":0.5},\"pattern\":{\"fillmode\":\"overlay\",\"size\":10,\"solidity\":0.2}},\"type\":\"bar\"}],\"barpolar\":[{\"marker\":{\"line\":{\"color\":\"#E5ECF6\",\"width\":0.5},\"pattern\":{\"fillmode\":\"overlay\",\"size\":10,\"solidity\":0.2}},\"type\":\"barpolar\"}],\"carpet\":[{\"aaxis\":{\"endlinecolor\":\"#2a3f5f\",\"gridcolor\":\"white\",\"linecolor\":\"white\",\"minorgridcolor\":\"white\",\"startlinecolor\":\"#2a3f5f\"},\"baxis\":{\"endlinecolor\":\"#2a3f5f\",\"gridcolor\":\"white\",\"linecolor\":\"white\",\"minorgridcolor\":\"white\",\"startlinecolor\":\"#2a3f5f\"},\"type\":\"carpet\"}],\"choropleth\":[{\"colorbar\":{\"outlinewidth\":0,\"ticks\":\"\"},\"type\":\"choropleth\"}],\"contour\":[{\"colorbar\":{\"outlinewidth\":0,\"ticks\":\"\"},\"colorscale\":[[0.0,\"#0d0887\"],[0.1111111111111111,\"#46039f\"],[0.2222222222222222,\"#7201a8\"],[0.3333333333333333,\"#9c179e\"],[0.4444444444444444,\"#bd3786\"],[0.5555555555555556,\"#d8576b\"],[0.6666666666666666,\"#ed7953\"],[0.7777777777777778,\"#fb9f3a\"],[0.8888888888888888,\"#fdca26\"],[1.0,\"#f0f921\"]],\"type\":\"contour\"}],\"contourcarpet\":[{\"colorbar\":{\"outlinewidth\":0,\"ticks\":\"\"},\"type\":\"contourcarpet\"}],\"heatmap\":[{\"colorbar\":{\"outlinewidth\":0,\"ticks\":\"\"},\"colorscale\":[[0.0,\"#0d0887\"],[0.1111111111111111,\"#46039f\"],[0.2222222222222222,\"#7201a8\"],[0.3333333333333333,\"#9c179e\"],[0.4444444444444444,\"#bd3786\"],[0.5555555555555556,\"#d8576b\"],[0.6666666666666666,\"#ed7953\"],[0.7777777777777778,\"#fb9f3a\"],[0.8888888888888888,\"#fdca26\"],[1.0,\"#f0f921\"]],\"type\":\"heatmap\"}],\"heatmapgl\":[{\"colorbar\":{\"outlinewidth\":0,\"ticks\":\"\"},\"colorscale\":[[0.0,\"#0d0887\"],[0.1111111111111111,\"#46039f\"],[0.2222222222222222,\"#7201a8\"],[0.3333333333333333,\"#9c179e\"],[0.4444444444444444,\"#bd3786\"],[0.5555555555555556,\"#d8576b\"],[0.6666666666666666,\"#ed7953\"],[0.7777777777777778,\"#fb9f3a\"],[0.8888888888888888,\"#fdca26\"],[1.0,\"#f0f921\"]],\"type\":\"heatmapgl\"}],\"histogram\":[{\"marker\":{\"pattern\":{\"fillmode\":\"overlay\",\"size\":10,\"solidity\":0.2}},\"type\":\"histogram\"}],\"histogram2d\":[{\"colorbar\":{\"outlinewidth\":0,\"ticks\":\"\"},\"colorscale\":[[0.0,\"#0d0887\"],[0.1111111111111111,\"#46039f\"],[0.2222222222222222,\"#7201a8\"],[0.3333333333333333,\"#9c179e\"],[0.4444444444444444,\"#bd3786\"],[0.5555555555555556,\"#d8576b\"],[0.6666666666666666,\"#ed7953\"],[0.7777777777777778,\"#fb9f3a\"],[0.8888888888888888,\"#fdca26\"],[1.0,\"#f0f921\"]],\"type\":\"histogram2d\"}],\"histogram2dcontour\":[{\"colorbar\":{\"outlinewidth\":0,\"ticks\":\"\"},\"colorscale\":[[0.0,\"#0d0887\"],[0.1111111111111111,\"#46039f\"],[0.2222222222222222,\"#7201a8\"],[0.3333333333333333,\"#9c179e\"],[0.4444444444444444,\"#bd3786\"],[0.5555555555555556,\"#d8576b\"],[0.6666666666666666,\"#ed7953\"],[0.7777777777777778,\"#fb9f3a\"],[0.8888888888888888,\"#fdca26\"],[1.0,\"#f0f921\"]],\"type\":\"histogram2dcontour\"}],\"mesh3d\":[{\"colorbar\":{\"outlinewidth\":0,\"ticks\":\"\"},\"type\":\"mesh3d\"}],\"parcoords\":[{\"line\":{\"colorbar\":{\"outlinewidth\":0,\"ticks\":\"\"}},\"type\":\"parcoords\"}],\"pie\":[{\"automargin\":true,\"type\":\"pie\"}],\"scatter\":[{\"marker\":{\"colorbar\":{\"outlinewidth\":0,\"ticks\":\"\"}},\"type\":\"scatter\"}],\"scatter3d\":[{\"line\":{\"colorbar\":{\"outlinewidth\":0,\"ticks\":\"\"}},\"marker\":{\"colorbar\":{\"outlinewidth\":0,\"ticks\":\"\"}},\"type\":\"scatter3d\"}],\"scattercarpet\":[{\"marker\":{\"colorbar\":{\"outlinewidth\":0,\"ticks\":\"\"}},\"type\":\"scattercarpet\"}],\"scattergeo\":[{\"marker\":{\"colorbar\":{\"outlinewidth\":0,\"ticks\":\"\"}},\"type\":\"scattergeo\"}],\"scattergl\":[{\"marker\":{\"colorbar\":{\"outlinewidth\":0,\"ticks\":\"\"}},\"type\":\"scattergl\"}],\"scattermapbox\":[{\"marker\":{\"colorbar\":{\"outlinewidth\":0,\"ticks\":\"\"}},\"type\":\"scattermapbox\"}],\"scatterpolar\":[{\"marker\":{\"colorbar\":{\"outlinewidth\":0,\"ticks\":\"\"}},\"type\":\"scatterpolar\"}],\"scatterpolargl\":[{\"marker\":{\"colorbar\":{\"outlinewidth\":0,\"ticks\":\"\"}},\"type\":\"scatterpolargl\"}],\"scatterternary\":[{\"marker\":{\"colorbar\":{\"outlinewidth\":0,\"ticks\":\"\"}},\"type\":\"scatterternary\"}],\"surface\":[{\"colorbar\":{\"outlinewidth\":0,\"ticks\":\"\"},\"colorscale\":[[0.0,\"#0d0887\"],[0.1111111111111111,\"#46039f\"],[0.2222222222222222,\"#7201a8\"],[0.3333333333333333,\"#9c179e\"],[0.4444444444444444,\"#bd3786\"],[0.5555555555555556,\"#d8576b\"],[0.6666666666666666,\"#ed7953\"],[0.7777777777777778,\"#fb9f3a\"],[0.8888888888888888,\"#fdca26\"],[1.0,\"#f0f921\"]],\"type\":\"surface\"}],\"table\":[{\"cells\":{\"fill\":{\"color\":\"#EBF0F8\"},\"line\":{\"color\":\"white\"}},\"header\":{\"fill\":{\"color\":\"#C8D4E3\"},\"line\":{\"color\":\"white\"}},\"type\":\"table\"}]},\"layout\":{\"annotationdefaults\":{\"arrowcolor\":\"#2a3f5f\",\"arrowhead\":0,\"arrowwidth\":1},\"autotypenumbers\":\"strict\",\"coloraxis\":{\"colorbar\":{\"outlinewidth\":0,\"ticks\":\"\"}},\"colorscale\":{\"diverging\":[[0,\"#8e0152\"],[0.1,\"#c51b7d\"],[0.2,\"#de77ae\"],[0.3,\"#f1b6da\"],[0.4,\"#fde0ef\"],[0.5,\"#f7f7f7\"],[0.6,\"#e6f5d0\"],[0.7,\"#b8e186\"],[0.8,\"#7fbc41\"],[0.9,\"#4d9221\"],[1,\"#276419\"]],\"sequential\":[[0.0,\"#0d0887\"],[0.1111111111111111,\"#46039f\"],[0.2222222222222222,\"#7201a8\"],[0.3333333333333333,\"#9c179e\"],[0.4444444444444444,\"#bd3786\"],[0.5555555555555556,\"#d8576b\"],[0.6666666666666666,\"#ed7953\"],[0.7777777777777778,\"#fb9f3a\"],[0.8888888888888888,\"#fdca26\"],[1.0,\"#f0f921\"]],\"sequentialminus\":[[0.0,\"#0d0887\"],[0.1111111111111111,\"#46039f\"],[0.2222222222222222,\"#7201a8\"],[0.3333333333333333,\"#9c179e\"],[0.4444444444444444,\"#bd3786\"],[0.5555555555555556,\"#d8576b\"],[0.6666666666666666,\"#ed7953\"],[0.7777777777777778,\"#fb9f3a\"],[0.8888888888888888,\"#fdca26\"],[1.0,\"#f0f921\"]]},\"colorway\":[\"#636efa\",\"#EF553B\",\"#00cc96\",\"#ab63fa\",\"#FFA15A\",\"#19d3f3\",\"#FF6692\",\"#B6E880\",\"#FF97FF\",\"#FECB52\"],\"font\":{\"color\":\"#2a3f5f\"},\"geo\":{\"bgcolor\":\"white\",\"lakecolor\":\"white\",\"landcolor\":\"#E5ECF6\",\"showlakes\":true,\"showland\":true,\"subunitcolor\":\"white\"},\"hoverlabel\":{\"align\":\"left\"},\"hovermode\":\"closest\",\"mapbox\":{\"style\":\"light\"},\"paper_bgcolor\":\"white\",\"plot_bgcolor\":\"#E5ECF6\",\"polar\":{\"angularaxis\":{\"gridcolor\":\"white\",\"linecolor\":\"white\",\"ticks\":\"\"},\"bgcolor\":\"#E5ECF6\",\"radialaxis\":{\"gridcolor\":\"white\",\"linecolor\":\"white\",\"ticks\":\"\"}},\"scene\":{\"xaxis\":{\"backgroundcolor\":\"#E5ECF6\",\"gridcolor\":\"white\",\"gridwidth\":2,\"linecolor\":\"white\",\"showbackground\":true,\"ticks\":\"\",\"zerolinecolor\":\"white\"},\"yaxis\":{\"backgroundcolor\":\"#E5ECF6\",\"gridcolor\":\"white\",\"gridwidth\":2,\"linecolor\":\"white\",\"showbackground\":true,\"ticks\":\"\",\"zerolinecolor\":\"white\"},\"zaxis\":{\"backgroundcolor\":\"#E5ECF6\",\"gridcolor\":\"white\",\"gridwidth\":2,\"linecolor\":\"white\",\"showbackground\":true,\"ticks\":\"\",\"zerolinecolor\":\"white\"}},\"shapedefaults\":{\"line\":{\"color\":\"#2a3f5f\"}},\"ternary\":{\"aaxis\":{\"gridcolor\":\"white\",\"linecolor\":\"white\",\"ticks\":\"\"},\"baxis\":{\"gridcolor\":\"white\",\"linecolor\":\"white\",\"ticks\":\"\"},\"bgcolor\":\"#E5ECF6\",\"caxis\":{\"gridcolor\":\"white\",\"linecolor\":\"white\",\"ticks\":\"\"}},\"title\":{\"x\":0.05},\"xaxis\":{\"automargin\":true,\"gridcolor\":\"white\",\"linecolor\":\"white\",\"ticks\":\"\",\"title\":{\"standoff\":15},\"zerolinecolor\":\"white\",\"zerolinewidth\":2},\"yaxis\":{\"automargin\":true,\"gridcolor\":\"white\",\"linecolor\":\"white\",\"ticks\":\"\",\"title\":{\"standoff\":15},\"zerolinecolor\":\"white\",\"zerolinewidth\":2}}}},                        {\"responsive\": true}                    ).then(function(){\n",
              "                            \n",
              "var gd = document.getElementById('3c1ffe62-fa3c-4f87-be11-e5861444f9e5');\n",
              "var x = new MutationObserver(function (mutations, observer) {{\n",
              "        var display = window.getComputedStyle(gd).display;\n",
              "        if (!display || display === 'none') {{\n",
              "            console.log([gd, 'removed!']);\n",
              "            Plotly.purge(gd);\n",
              "            observer.disconnect();\n",
              "        }}\n",
              "}});\n",
              "\n",
              "// Listen for the removal of the full notebook cells\n",
              "var notebookContainer = gd.closest('#notebook-container');\n",
              "if (notebookContainer) {{\n",
              "    x.observe(notebookContainer, {childList: true});\n",
              "}}\n",
              "\n",
              "// Listen for the clearing of the current output cell\n",
              "var outputEl = gd.closest('.output');\n",
              "if (outputEl) {{\n",
              "    x.observe(outputEl, {childList: true});\n",
              "}}\n",
              "\n",
              "                        })                };                            </script>        </div>\n",
              "</body>\n",
              "</html>"
            ]
          },
          "metadata": {}
        }
      ]
    },
    {
      "cell_type": "code",
      "source": [
        "y_true = 100 + 20 * np.random.randn(1000)\n",
        "y_pred = y_true + 10 * np.random.randn(1000)\n",
        "results = pd.DataFrame({'y_true': y_true, 'y_pred': y_pred})\n",
        "results['error'] = results['y_true'] - results['y_pred']\n",
        "\n",
        "px.histogram(results, x='error', nbins=50, width=800)"
      ],
      "metadata": {
        "colab": {
          "base_uri": "https://localhost:8080/",
          "height": 562
        },
        "id": "enRtqK4XX--x",
        "outputId": "51618b61-ce84-44ae-83ad-0e5d5ea88b05"
      },
      "execution_count": 8,
      "outputs": [
        {
          "output_type": "display_data",
          "data": {
            "text/html": [
              "<html>\n",
              "<head><meta charset=\"utf-8\" /></head>\n",
              "<body>\n",
              "    <div>            <script src=\"https://cdnjs.cloudflare.com/ajax/libs/mathjax/2.7.5/MathJax.js?config=TeX-AMS-MML_SVG\"></script><script type=\"text/javascript\">if (window.MathJax) {MathJax.Hub.Config({SVG: {font: \"STIX-Web\"}});}</script>                <script type=\"text/javascript\">window.PlotlyConfig = {MathJaxConfig: 'local'};</script>\n",
              "        <script src=\"https://cdn.plot.ly/plotly-2.8.3.min.js\"></script>                <div id=\"1e996531-1b73-4338-bdbb-a9bb8dfdabe0\" class=\"plotly-graph-div\" style=\"height:525px; width:800px;\"></div>            <script type=\"text/javascript\">                                    window.PLOTLYENV=window.PLOTLYENV || {};                                    if (document.getElementById(\"1e996531-1b73-4338-bdbb-a9bb8dfdabe0\")) {                    Plotly.newPlot(                        \"1e996531-1b73-4338-bdbb-a9bb8dfdabe0\",                        [{\"alignmentgroup\":\"True\",\"bingroup\":\"x\",\"hovertemplate\":\"error=%{x}<br>count=%{y}<extra></extra>\",\"legendgroup\":\"\",\"marker\":{\"color\":\"#636efa\",\"pattern\":{\"shape\":\"\"}},\"name\":\"\",\"nbinsx\":50,\"offsetgroup\":\"\",\"orientation\":\"v\",\"showlegend\":false,\"x\":[-8.012137948777593,4.401917472952519,4.241006388753092,3.089440951044267,-11.948662083000926,14.0148252063793,-7.773825846843039,17.672180586843098,-10.913549470088086,-2.9184691682286825,-13.6181435634535,-0.9525091039815266,6.666830763253806,-3.6251051020540785,-14.745436131445757,-13.513947995128504,-13.845698462286464,3.7259460956526453,-3.04523870708276,-2.9986723973796927,24.19572459450518,14.701547350108783,-10.527764931069768,4.231397595836526,-11.007865078140526,-6.674804213928283,-5.602121329939678,14.554965753837322,-0.1388947689538469,-1.7921779818078107,-11.890593413472587,10.883696906349371,-4.615694733716481,6.970194524850186,-6.081518950362863,-8.1666899360213,-16.102624440182844,3.8768145179050038,-1.37925329966437,0.6644913111637294,2.574992711970964,6.207040752132201,13.456251672775508,-0.8562909161975512,9.57689449298475,-14.698178164977904,-1.5703607024104969,20.659144947248024,22.76202472353566,-5.65721262943687,16.791193449131484,1.7823056882012764,6.329175814675722,-2.5109148978990845,-23.294620193143473,8.738462081575364,1.3096642828470948,26.157307615513332,-8.04612364174612,-6.457854230439203,-16.396814078613204,-14.453532568831449,7.7194438920744375,-17.459879790764404,-2.703022868576369,-5.655591319344737,-18.624068984839482,-7.687111932629406,-5.511327403539383,-3.410608201403022,10.694325650164913,7.337127413567714,-7.614634260676013,-5.2243148563574096,17.58587253137557,14.138480026512184,8.414291921729287,14.339172105570242,25.49818328685015,11.827392618417278,25.061715998120242,-22.470953533593587,8.504011570309316,-8.440993671406062,-7.694442982421549,-0.583344848294189,2.2438103512801035,-20.839634568907968,0.25669904814689914,1.8788085227080131,3.0827063956051575,-2.1752886666657076,14.426432758528478,-9.952194356373639,-14.942460159772537,-3.915408253855418,5.5554526636096995,10.020467750827507,0.9950717505830653,7.1643756796973435,3.7222928909667274,8.479240194594041,1.169549136599997,-2.8704037654193826,5.795632796919563,-1.7518320904932807,18.53875679986436,-4.12974366588405,-3.7613186487637904,2.130136141216056,13.69704214678049,2.3974426056405633,-7.281572229422224,7.017160834089225,16.12356201351892,-4.642994544701466,1.3468793998090263,-4.162021905780506,4.1478512569330235,17.414214594637244,15.797981142606758,-3.8777657173242943,-13.089520045646054,-1.7904678299973398,4.360807414986198,3.369017143684374,-4.25818948697227,-16.753962152010914,9.498291594501907,-5.919904484805741,3.7309307866846098,3.0587792492977854,13.072290159646855,-19.304406205300538,-13.787573722819346,-15.986517952244768,8.042960483167704,-7.365481517583007,10.346014230903663,6.336424903995152,-2.2807759872406734,1.1882109999266532,-11.588074114005657,-7.308169240142519,-5.169759656256616,-3.6834786585823736,-6.724097847446956,-25.002037660852096,-10.69533289823616,-5.471849731060431,-4.311521798178944,16.737373050402937,15.653439462187976,-5.046768436981651,-6.824720695180929,13.101198100210496,-8.790091568578305,-16.960152506564626,5.545838622816561,9.53027791562684,13.201543750698349,-2.958420918800357,17.285556309481606,-24.772080111609043,-0.08782150025704993,9.405550784087723,4.1565903655327645,-21.709390844011054,-11.27682767762765,-2.1854836753022084,6.829320354989633,-10.439358694121182,7.388489123815447,4.913022952171687,-6.91022435804112,6.372752347699958,-7.963590187164101,6.448385218816071,-9.46098931053099,0.40045545735929977,-1.9113522921871748,5.582658857574856,-1.3927749757603465,-1.534822035558122,4.769032332761199,8.911796073321398,-18.28481933474643,13.655191474764806,-3.1200432738104666,-2.875666791686399,-9.12178600693467,-5.962745814558303,-15.367444504759604,4.9742456705671145,3.997131495998417,-1.8415114367176955,-8.762909804481183,20.71938196891226,-8.657702590445382,2.659870888479688,1.0510684827704324,4.2582596322711055,7.286371643456377,-4.1444869676502805,5.032424825027263,2.2277062557995535,0.17272962332070563,4.755858311208385,1.3158121501792124,-2.3053820942505467,0.6062294653144846,8.614055843915864,-20.896833236584882,0.25802561483907027,2.658281306144289,-6.292609857963143,-7.640096410945503,17.140044599184776,1.4144074821482207,-5.105129001579854,0.3786708136906185,-22.169385675992018,-1.3498319826364025,-5.528092129932716,-5.8495802678394,0.31348896271806836,6.8041635958020095,2.076864611831539,-11.505061310387319,3.301390123461175,-1.8127377832292808,11.281946414413497,-0.6701008710434166,4.130602412982441,-10.542287687162826,-12.610054348052941,10.68626673106408,1.6593955310194985,-1.0138943139422736,-11.797133836766307,-4.674268158675872,9.755791397313828,-3.864400873856141,-10.424783793449038,-0.036829496400059725,-14.787676648904473,-3.59408129661918,14.249593918779098,-22.17896107962646,3.186828206775303,-0.43150128928702713,-5.335414237564066,-10.181883338417833,-21.386379939022135,16.139632320749513,4.286644237841941,9.994602849612676,15.298374853489449,-0.916723192598397,15.029592355225958,26.22277309318713,-6.60837639113673,-4.6580457420792385,2.0087063320991945,-1.973978551630566,-1.767133792492288,1.2417003255913812,-4.384976032166179,-1.5652549817401251,0.9952802363390987,5.131043592995027,14.193323400714903,3.661867723737302,13.668926465255751,11.88050773501132,4.363830512193616,-0.4126261685188126,0.7473062836846793,-13.909637670502903,10.725722731348114,0.2365070016407742,-10.215910235965254,-0.6799907067825899,-0.5860164198206661,15.495284490789288,-25.162078906485547,18.16759065046304,1.4703089222700214,-6.281362056871075,0.4157401832225105,3.613001948332837,-9.748026246878723,-15.676353332343382,3.679865613428831,0.8439535368242019,6.716245952094752,-13.358434958930488,-8.113167074206515,5.4621033116421245,13.11125871989293,7.543815838506362,1.218671373093045,4.009974300535987,-16.611058391308234,-2.695594941621195,-14.886931911272654,-7.471568325654829,-5.817228029576853,7.66093753751295,-0.8405992963759132,-3.886950884632995,-1.3898586725487263,-6.478257241480989,9.63229703275033,7.612045245404573,-14.475846318791383,4.845482277464896,7.60955179953136,-6.806066930437851,-8.73045886692887,6.147817290565882,18.84446635556037,-12.765323029233016,9.211381500475937,-11.114968263335683,6.967518629479613,-1.3763356005096625,-1.3621300720131444,-4.3485352369231265,1.0175559161880017,-0.7594223113490557,12.734745738192522,0.19506365024308536,10.934853657796538,-14.217342583297437,4.659981922966153,11.90262297646521,0.4337989737187655,1.6294592309605065,3.732928698354229,0.6072735437223571,3.892504755823836,3.2200887460135164,-5.047841348764848,4.103289630234158,-4.958191870294982,-0.4376271161718819,6.3694298403397624,-0.6607009163699473,16.669149376747512,0.9370785314029035,3.7500402535383017,-3.5880898904736114,-6.430365862435806,-6.343866857638915,-9.006591775407145,-24.639374539411065,-0.6987666696917927,13.023999815062808,3.8880821971990684,-2.5162143196316435,2.765669762437284,-11.126557646431095,6.390329140159039,5.740785692574988,-14.828890614462523,13.464614133724822,0.9943711015047256,-12.209656515930362,-11.426115612732005,2.2120200369273846,-10.676250772802248,6.2860834667591945,4.0343791637163235,6.895631886822741,-14.10889574887156,14.403578112703428,6.204476127219436,10.251982785008963,3.6073624646597864,-2.383083591167818,-9.2402648280151,-8.049525666483405,-8.83861333550449,12.916322999253168,10.606952177672014,0.8870517049322046,4.195880112871279,-27.163019576589974,7.434029393170661,-19.629868271459728,-8.51754564139192,4.873762303663625,2.9639184454778587,7.248817914573195,3.5916769700784528,33.2427557133764,-15.096184694946828,-1.8791022021826649,5.767837985977266,1.97774892075347,2.0174169319991364,3.622765002603643,15.11877388651719,15.22679145527124,6.613524374140681,16.26227818034822,12.134156868387095,-20.081735539660798,-12.491635914399268,-31.07680115377613,-12.957358799128983,-13.012850392872991,-6.3649293900598565,-6.72795538030968,13.746346444209443,-10.352089408714221,6.076460520624721,-2.837395391051146,2.4212980877798884,-0.013074285889061343,2.268040065683465,0.18089717899850655,-2.5851126416024783,1.160633240925364,7.60212189702338,19.47490533554705,-10.882538352901818,9.294705795647502,-8.219915490495069,-8.540343034127147,-15.658585681281764,-0.5780407690152174,23.213742520096147,3.7927308283468335,8.715086554643591,8.034613804901795,1.0931669333167804,4.716611478798384,-9.69758951182365,-4.870784180373974,10.135109701994338,7.111619270621688,5.497806172634881,13.552501989959836,0.8618929383020486,-3.8648380396982276,2.5920388286298106,8.000733538373936,2.904361523186239,1.3537722640641903,-13.5180696161964,-8.788468678516182,5.227639444685224,-10.764554311587588,4.891083664957421,7.59388448494353,-7.219810018743175,-0.31747672834606533,-16.843309646535545,5.387644552774844,2.2635111937548373,9.009019007040806,-5.721818618471204,10.737451500339063,2.4057760455642097,18.90568763632774,-14.897844616815874,-5.761023436147482,11.819501722958691,-2.7470803981021845,5.558304827910959,4.8321082849759165,-8.605555951318479,32.17576172150737,4.250161872312319,-5.626864187138864,-14.634506201686804,19.56390588949766,-6.689583004645073,28.37403031323977,-2.452075638123077,-10.137480170685635,-14.8037978114332,3.421271613916744,6.787043616384494,1.9444325639788786,11.378750993790604,4.793535429536746,16.347264354813518,-3.7049280643749256,-2.8202013826509074,-3.756382062370207,-14.001987263641922,12.719948257134021,6.903346080940096,18.706729545277064,10.785170651454024,-14.912556430057563,-10.931799296411512,9.493980034556458,-2.614625786555173,-1.037737749063325,-21.867652107472054,11.985231859660928,-4.54253048777197,-5.306097468134425,-15.256339146948989,-1.517149919531434,0.35919610343620434,-17.662434817073006,-1.733866678503773,4.161368833579331,-0.6535177436788331,-1.1514448841047908,1.566658180512718,-9.661966241656444,-13.105691174289717,-22.35400719646705,-1.2488361539491848,-7.324401801379665,14.9726727383768,5.315324886701092,-1.3604228891553305,11.836829489320664,-4.873908950654609,-5.658844561202187,1.8730881918526308,-10.967134343769303,-0.28144856763462656,-9.936428834654805,-3.415827862993524,17.810331040119763,9.86573329058433,-0.7544076927788268,15.034682365299844,2.6381960130117648,1.4170682739673452,4.659947995497689,12.076028473649728,-6.320959084134813,-4.874124536393879,2.128585348741538,1.8536986578703676,5.512855360839978,1.7518620995639935,11.895638391393476,-1.8620428306084875,3.6324379607739914,-8.16476624657976,12.901754296153882,6.618207955738924,-4.755815762879919,-5.070145874574237,5.097463184974828,-8.549539520529038,1.5608701282924642,7.06345378365701,-0.4224626749647342,-4.931214609092166,17.459881528522942,-18.384768055443203,5.820071835027662,-0.7715286291117707,-10.147860610622047,5.3946472908965575,1.5402831476708059,7.071628178554221,-0.19393333732155327,-2.6691496272493964,-7.5105366807132725,-18.795813744437538,8.322238094284856,-5.03449339114421,-15.485061543867943,-3.606019868135519,15.99130772201815,-3.0055893058240173,-0.4630265513441856,3.9141219688669935,-11.428928063288097,-0.3984077515307689,7.491323157808438,-13.308408146687498,7.210214275032328,16.3112805840114,-14.371523281346498,4.1759099751478175,3.5784491437762824,14.607104092838696,-4.835928033354463,10.503414622875226,-20.269421857241866,14.598626880951826,-4.871170163392165,-5.554518194213735,-7.654156860181558,11.270775346237045,0.6641001790535341,-15.648465595887956,-17.209864878973633,0.5945918948163609,-5.06603246356444,-2.2927116393431106,-6.511309077711189,-9.615327525996634,6.25718797004339,3.288710701094132,-10.82632515633449,-4.895399462112437,-15.939371495104695,1.0339932432144963,4.993330951148337,3.2122194841176963,-0.28183951611313773,-1.4163695536104228,-8.788908789346564,1.2635425075207394,-18.937984690689945,-20.47666380814293,12.165170867818063,1.569585027853904,-13.548817332392275,13.230645870330136,8.69569238192878,9.843524590302216,10.739541318046648,2.1869524798308504,0.6765843472887525,-1.2547323196269815,4.728068331852199,-2.8478210382291422,-15.47288190772818,7.401081858922623,-6.9398963313492175,9.280627201610656,4.857748256189964,-12.35828292722897,21.62343718175869,10.502237439276982,-15.025384217518365,-6.964659306978689,3.406759075797538,20.814057202991734,-3.446470489190588,9.11502429726859,4.5038782331725145,-12.301608461078914,13.777240552588353,16.42532560641493,0.5661478394727055,4.294964513561752,18.075386882930616,-9.518345353134194,-10.192723465647333,-7.269382443008162,-11.204848537187758,-15.953050296428913,5.274138538178249,-9.959680670742856,4.788637732207377,2.6827288626234065,3.208542020776818,-11.639056855634706,20.325638917684756,-0.8433780391092256,-4.086035838941498,0.850754860824324,-9.308381951320555,-5.099095617114855,-16.129326633610887,5.6115072243726445,7.277881034912156,20.31363989785754,3.7421568729622123,1.6812999224104743,18.39861272140294,2.227333073948415,-14.29817827746146,3.0150727026304764,8.834578411768518,-5.682841398003873,-3.6326396814296658,5.095682417737208,10.256372249413744,-2.7714208824059483,-4.6652255816440515,6.219048916663795,3.218361162072867,11.991286082804251,13.879458191211398,1.9616979841215425,-6.551122157620441,4.162013516775957,-2.0223446833084466,-19.49223463115767,8.020837383973799,-3.4128191333070674,-14.960989955397096,31.195589821176952,-3.8159644927805374,-29.616677733186464,-0.9669826868043998,-12.075655726068064,-3.7151597299686614,6.200008810604061,16.592718166960665,-10.271658322082672,12.080616932318172,-4.882064941286842,6.320110508093364,1.5414332101886714,17.860161561197103,-11.411294505712718,-1.46409136750232,-4.431932269360942,10.674420165683372,-5.595889719561626,-1.6057268795301525,-7.392894364425743,15.890980100955488,-10.849906436442424,9.892573042570348,8.718608404026227,3.699368730301231,11.531440411185116,-6.404621529124839,-4.116223804688261,8.397943467119731,-2.851189110957492,2.5980696092406674,12.062158403780359,-11.022375495705575,-3.43531565325803,25.762162299524135,-13.885894831195984,12.341009447042055,-20.23511371598319,18.945366775371568,-10.296616675318319,10.037734234504725,0.7618659316010934,21.391314078428977,-12.308869395015734,-1.0391613011591403,-2.0728657330343196,-6.616394485948163,18.046529771811507,-9.439534484595669,7.486713858057868,-11.530346669134872,-5.0586047351004595,-19.125071848000204,-15.213374402520373,-33.95433251131578,4.120427174452587,8.77054676625795,-20.12795951569865,3.8414552268526023,15.491375893592533,-21.34342367530664,-12.471873863004305,4.658502912492352,4.261366343605076,8.46002722587933,-6.221721662469619,-6.411640532752472,-2.5893913709954433,-0.14391229049132903,-7.157222609057541,15.361940356381126,-8.669668201466521,1.1387630458656304,-4.428160366885649,-13.375136239480653,10.036135088812372,7.5720877195320355,8.20021601063155,9.069420797421557,-1.3349501160563335,-1.2637331395135618,4.5817985409036055,0.6464223404913696,10.403656668274735,0.9643755598343091,9.409564301156621,-7.658882905943962,-7.925375452365913,-3.358107748664054,1.8010365073758692,-22.807208840516736,11.07904939030577,-10.784053584535968,8.569358851887813,0.6815125512843707,9.568798317683544,8.353577074554934,-10.189863635465372,3.5662602582341947,-0.08033024077668927,3.4469578236160032,-7.565885669931106,-2.349669010206256,-1.5392944304412595,-12.08153481676365,-1.86289984601774,5.453518580194753,5.223612267329429,3.302248568949395,-1.3081675515177835,2.8132292453360748,10.188814408175332,-5.772185685161844,3.8546397143456943,-7.179475332782999,-12.950142470721772,2.2477066615089285,-6.581205166857444,14.264105277186175,0.8205436231933874,15.0028902100984,-7.065424259437876,-3.4801044874819667,-11.199852088132843,24.265036534883407,-9.735026614633256,10.363768410540061,-2.220142965663797,10.2375643214518,-16.87931178707911,-10.20258993242659,5.335770123763098,-15.654083801400475,22.91042725735346,-22.621820829036423,-16.696164245388502,0.32444106814821794,8.262797935906633,-0.41731744240996704,16.15777590043622,2.9049507786814672,1.7358571481602496,13.435151614828186,19.013671285715876,4.47402717663968,6.022617531173665,2.081958169874966,-18.105919136986003,7.853066492366395,4.579209838975814,2.1481743863643032,-7.346800762952583,5.475285640879065,7.049057946065943,9.556681298738908,-6.6302431425371395,4.017816016687831,-14.441649389106828,6.563277656470163,-3.7474374698443995,-7.051518788775141,-9.4569385546491,-11.651761107531712,-7.560023844486452,-6.756747308686684,-5.201773848996979,-1.893049070949715,-0.44060034187386066,-7.4781881054542225,-10.661307463460957,-15.160557072848789,4.346089144050524,4.886972921849122,2.198907843563063,-20.71931948306201,-4.34147555620217,-4.891887414200255,12.2016337200712,15.020520227138192,10.928164196704486,-12.51368974428135,2.847325526167154,0.43518592779558674,-9.371797473408435,-6.978033683667235,0.11609175875366873,8.96456287458929,6.436977365244886,21.117148293830965,-2.3065413843458487,-9.323323769310733,-2.255946512218017,3.6180117317092026,-16.41796913065277,3.8593177133712686,-5.963324811541057,-8.570097818560072,20.72867626822091,3.487436409048726,4.524279821835123,4.614627939533634,-7.228878736525871,2.171208643462691,-6.703687087660512,-7.248709771815726,-24.11270795055296,-10.111391457545963,-0.4167027496999651,18.253141276250886,-1.9885215907994365,-21.156970568757686,10.813583916363086,-6.302362648179397,-18.743403152692494,7.465706064466488,-15.580508124654074,-1.6943596359414386,12.012354554052408,2.4425621734815763,-5.3751244364334525,0.22199276522984235,-8.511778851886305,-4.372659968189893,5.961055206723842,5.147080601527335,3.2381181593904103,-17.284269020808466,2.220986047815913,-14.302034215791664,15.427773684278712,-10.032690147301622,15.192549765324799,21.859818779980856,10.813317595790167,22.352582596882243,-14.397797572179726,9.424058601660889,-13.18208934723664,1.7530776896902296,-1.8515966892059907,8.016694888282899,2.7406313894936716,-4.433028501089353,-13.258342784319183,6.837767261111907,1.2130800198092544,-28.979150938994508,-0.771954119729898,-0.05123126530367017,16.126984601039112,-13.511086144603567,6.684503540785457,-13.052737878346704,-11.166164656936985,6.957820109664496,-6.474118050101282,9.2044669349482,24.122854680775703,-16.153264352600388,-6.822928937019256,-9.930848849558828,5.3090262370700145,1.0081650433447038,-15.490153644604092,10.147913387342406,-2.7850443116875,1.640168507857723,8.895702762420314,5.2105868507584745,-17.165977410159144,-5.517829393367876,-3.7175295815004006,-0.4867193901275755,-22.539866812371983,3.3826847868106853,-7.885054219239308,-19.114073116122597,-20.920922946559898,-4.505925012918652,2.7799372505536297,-9.716315636632302,-2.036789799106529,0.7860309376321197,4.413680549304004,2.8955707461391,15.031059731997885,-4.055581936869842,0.5307628191631721,7.024987855250259,-8.113599584602,-3.9640369444716583,-18.018840610185578,-4.053435888360781,-32.534562056653,-7.712357632530399,-6.235193259457446,-3.418770096082085,-14.034917825241592,-2.1214855314495935,-14.025744302248668],\"xaxis\":\"x\",\"yaxis\":\"y\",\"type\":\"histogram\"}],                        {\"template\":{\"data\":{\"bar\":[{\"error_x\":{\"color\":\"#2a3f5f\"},\"error_y\":{\"color\":\"#2a3f5f\"},\"marker\":{\"line\":{\"color\":\"#E5ECF6\",\"width\":0.5},\"pattern\":{\"fillmode\":\"overlay\",\"size\":10,\"solidity\":0.2}},\"type\":\"bar\"}],\"barpolar\":[{\"marker\":{\"line\":{\"color\":\"#E5ECF6\",\"width\":0.5},\"pattern\":{\"fillmode\":\"overlay\",\"size\":10,\"solidity\":0.2}},\"type\":\"barpolar\"}],\"carpet\":[{\"aaxis\":{\"endlinecolor\":\"#2a3f5f\",\"gridcolor\":\"white\",\"linecolor\":\"white\",\"minorgridcolor\":\"white\",\"startlinecolor\":\"#2a3f5f\"},\"baxis\":{\"endlinecolor\":\"#2a3f5f\",\"gridcolor\":\"white\",\"linecolor\":\"white\",\"minorgridcolor\":\"white\",\"startlinecolor\":\"#2a3f5f\"},\"type\":\"carpet\"}],\"choropleth\":[{\"colorbar\":{\"outlinewidth\":0,\"ticks\":\"\"},\"type\":\"choropleth\"}],\"contour\":[{\"colorbar\":{\"outlinewidth\":0,\"ticks\":\"\"},\"colorscale\":[[0.0,\"#0d0887\"],[0.1111111111111111,\"#46039f\"],[0.2222222222222222,\"#7201a8\"],[0.3333333333333333,\"#9c179e\"],[0.4444444444444444,\"#bd3786\"],[0.5555555555555556,\"#d8576b\"],[0.6666666666666666,\"#ed7953\"],[0.7777777777777778,\"#fb9f3a\"],[0.8888888888888888,\"#fdca26\"],[1.0,\"#f0f921\"]],\"type\":\"contour\"}],\"contourcarpet\":[{\"colorbar\":{\"outlinewidth\":0,\"ticks\":\"\"},\"type\":\"contourcarpet\"}],\"heatmap\":[{\"colorbar\":{\"outlinewidth\":0,\"ticks\":\"\"},\"colorscale\":[[0.0,\"#0d0887\"],[0.1111111111111111,\"#46039f\"],[0.2222222222222222,\"#7201a8\"],[0.3333333333333333,\"#9c179e\"],[0.4444444444444444,\"#bd3786\"],[0.5555555555555556,\"#d8576b\"],[0.6666666666666666,\"#ed7953\"],[0.7777777777777778,\"#fb9f3a\"],[0.8888888888888888,\"#fdca26\"],[1.0,\"#f0f921\"]],\"type\":\"heatmap\"}],\"heatmapgl\":[{\"colorbar\":{\"outlinewidth\":0,\"ticks\":\"\"},\"colorscale\":[[0.0,\"#0d0887\"],[0.1111111111111111,\"#46039f\"],[0.2222222222222222,\"#7201a8\"],[0.3333333333333333,\"#9c179e\"],[0.4444444444444444,\"#bd3786\"],[0.5555555555555556,\"#d8576b\"],[0.6666666666666666,\"#ed7953\"],[0.7777777777777778,\"#fb9f3a\"],[0.8888888888888888,\"#fdca26\"],[1.0,\"#f0f921\"]],\"type\":\"heatmapgl\"}],\"histogram\":[{\"marker\":{\"pattern\":{\"fillmode\":\"overlay\",\"size\":10,\"solidity\":0.2}},\"type\":\"histogram\"}],\"histogram2d\":[{\"colorbar\":{\"outlinewidth\":0,\"ticks\":\"\"},\"colorscale\":[[0.0,\"#0d0887\"],[0.1111111111111111,\"#46039f\"],[0.2222222222222222,\"#7201a8\"],[0.3333333333333333,\"#9c179e\"],[0.4444444444444444,\"#bd3786\"],[0.5555555555555556,\"#d8576b\"],[0.6666666666666666,\"#ed7953\"],[0.7777777777777778,\"#fb9f3a\"],[0.8888888888888888,\"#fdca26\"],[1.0,\"#f0f921\"]],\"type\":\"histogram2d\"}],\"histogram2dcontour\":[{\"colorbar\":{\"outlinewidth\":0,\"ticks\":\"\"},\"colorscale\":[[0.0,\"#0d0887\"],[0.1111111111111111,\"#46039f\"],[0.2222222222222222,\"#7201a8\"],[0.3333333333333333,\"#9c179e\"],[0.4444444444444444,\"#bd3786\"],[0.5555555555555556,\"#d8576b\"],[0.6666666666666666,\"#ed7953\"],[0.7777777777777778,\"#fb9f3a\"],[0.8888888888888888,\"#fdca26\"],[1.0,\"#f0f921\"]],\"type\":\"histogram2dcontour\"}],\"mesh3d\":[{\"colorbar\":{\"outlinewidth\":0,\"ticks\":\"\"},\"type\":\"mesh3d\"}],\"parcoords\":[{\"line\":{\"colorbar\":{\"outlinewidth\":0,\"ticks\":\"\"}},\"type\":\"parcoords\"}],\"pie\":[{\"automargin\":true,\"type\":\"pie\"}],\"scatter\":[{\"marker\":{\"colorbar\":{\"outlinewidth\":0,\"ticks\":\"\"}},\"type\":\"scatter\"}],\"scatter3d\":[{\"line\":{\"colorbar\":{\"outlinewidth\":0,\"ticks\":\"\"}},\"marker\":{\"colorbar\":{\"outlinewidth\":0,\"ticks\":\"\"}},\"type\":\"scatter3d\"}],\"scattercarpet\":[{\"marker\":{\"colorbar\":{\"outlinewidth\":0,\"ticks\":\"\"}},\"type\":\"scattercarpet\"}],\"scattergeo\":[{\"marker\":{\"colorbar\":{\"outlinewidth\":0,\"ticks\":\"\"}},\"type\":\"scattergeo\"}],\"scattergl\":[{\"marker\":{\"colorbar\":{\"outlinewidth\":0,\"ticks\":\"\"}},\"type\":\"scattergl\"}],\"scattermapbox\":[{\"marker\":{\"colorbar\":{\"outlinewidth\":0,\"ticks\":\"\"}},\"type\":\"scattermapbox\"}],\"scatterpolar\":[{\"marker\":{\"colorbar\":{\"outlinewidth\":0,\"ticks\":\"\"}},\"type\":\"scatterpolar\"}],\"scatterpolargl\":[{\"marker\":{\"colorbar\":{\"outlinewidth\":0,\"ticks\":\"\"}},\"type\":\"scatterpolargl\"}],\"scatterternary\":[{\"marker\":{\"colorbar\":{\"outlinewidth\":0,\"ticks\":\"\"}},\"type\":\"scatterternary\"}],\"surface\":[{\"colorbar\":{\"outlinewidth\":0,\"ticks\":\"\"},\"colorscale\":[[0.0,\"#0d0887\"],[0.1111111111111111,\"#46039f\"],[0.2222222222222222,\"#7201a8\"],[0.3333333333333333,\"#9c179e\"],[0.4444444444444444,\"#bd3786\"],[0.5555555555555556,\"#d8576b\"],[0.6666666666666666,\"#ed7953\"],[0.7777777777777778,\"#fb9f3a\"],[0.8888888888888888,\"#fdca26\"],[1.0,\"#f0f921\"]],\"type\":\"surface\"}],\"table\":[{\"cells\":{\"fill\":{\"color\":\"#EBF0F8\"},\"line\":{\"color\":\"white\"}},\"header\":{\"fill\":{\"color\":\"#C8D4E3\"},\"line\":{\"color\":\"white\"}},\"type\":\"table\"}]},\"layout\":{\"annotationdefaults\":{\"arrowcolor\":\"#2a3f5f\",\"arrowhead\":0,\"arrowwidth\":1},\"autotypenumbers\":\"strict\",\"coloraxis\":{\"colorbar\":{\"outlinewidth\":0,\"ticks\":\"\"}},\"colorscale\":{\"diverging\":[[0,\"#8e0152\"],[0.1,\"#c51b7d\"],[0.2,\"#de77ae\"],[0.3,\"#f1b6da\"],[0.4,\"#fde0ef\"],[0.5,\"#f7f7f7\"],[0.6,\"#e6f5d0\"],[0.7,\"#b8e186\"],[0.8,\"#7fbc41\"],[0.9,\"#4d9221\"],[1,\"#276419\"]],\"sequential\":[[0.0,\"#0d0887\"],[0.1111111111111111,\"#46039f\"],[0.2222222222222222,\"#7201a8\"],[0.3333333333333333,\"#9c179e\"],[0.4444444444444444,\"#bd3786\"],[0.5555555555555556,\"#d8576b\"],[0.6666666666666666,\"#ed7953\"],[0.7777777777777778,\"#fb9f3a\"],[0.8888888888888888,\"#fdca26\"],[1.0,\"#f0f921\"]],\"sequentialminus\":[[0.0,\"#0d0887\"],[0.1111111111111111,\"#46039f\"],[0.2222222222222222,\"#7201a8\"],[0.3333333333333333,\"#9c179e\"],[0.4444444444444444,\"#bd3786\"],[0.5555555555555556,\"#d8576b\"],[0.6666666666666666,\"#ed7953\"],[0.7777777777777778,\"#fb9f3a\"],[0.8888888888888888,\"#fdca26\"],[1.0,\"#f0f921\"]]},\"colorway\":[\"#636efa\",\"#EF553B\",\"#00cc96\",\"#ab63fa\",\"#FFA15A\",\"#19d3f3\",\"#FF6692\",\"#B6E880\",\"#FF97FF\",\"#FECB52\"],\"font\":{\"color\":\"#2a3f5f\"},\"geo\":{\"bgcolor\":\"white\",\"lakecolor\":\"white\",\"landcolor\":\"#E5ECF6\",\"showlakes\":true,\"showland\":true,\"subunitcolor\":\"white\"},\"hoverlabel\":{\"align\":\"left\"},\"hovermode\":\"closest\",\"mapbox\":{\"style\":\"light\"},\"paper_bgcolor\":\"white\",\"plot_bgcolor\":\"#E5ECF6\",\"polar\":{\"angularaxis\":{\"gridcolor\":\"white\",\"linecolor\":\"white\",\"ticks\":\"\"},\"bgcolor\":\"#E5ECF6\",\"radialaxis\":{\"gridcolor\":\"white\",\"linecolor\":\"white\",\"ticks\":\"\"}},\"scene\":{\"xaxis\":{\"backgroundcolor\":\"#E5ECF6\",\"gridcolor\":\"white\",\"gridwidth\":2,\"linecolor\":\"white\",\"showbackground\":true,\"ticks\":\"\",\"zerolinecolor\":\"white\"},\"yaxis\":{\"backgroundcolor\":\"#E5ECF6\",\"gridcolor\":\"white\",\"gridwidth\":2,\"linecolor\":\"white\",\"showbackground\":true,\"ticks\":\"\",\"zerolinecolor\":\"white\"},\"zaxis\":{\"backgroundcolor\":\"#E5ECF6\",\"gridcolor\":\"white\",\"gridwidth\":2,\"linecolor\":\"white\",\"showbackground\":true,\"ticks\":\"\",\"zerolinecolor\":\"white\"}},\"shapedefaults\":{\"line\":{\"color\":\"#2a3f5f\"}},\"ternary\":{\"aaxis\":{\"gridcolor\":\"white\",\"linecolor\":\"white\",\"ticks\":\"\"},\"baxis\":{\"gridcolor\":\"white\",\"linecolor\":\"white\",\"ticks\":\"\"},\"bgcolor\":\"#E5ECF6\",\"caxis\":{\"gridcolor\":\"white\",\"linecolor\":\"white\",\"ticks\":\"\"}},\"title\":{\"x\":0.05},\"xaxis\":{\"automargin\":true,\"gridcolor\":\"white\",\"linecolor\":\"white\",\"ticks\":\"\",\"title\":{\"standoff\":15},\"zerolinecolor\":\"white\",\"zerolinewidth\":2},\"yaxis\":{\"automargin\":true,\"gridcolor\":\"white\",\"linecolor\":\"white\",\"ticks\":\"\",\"title\":{\"standoff\":15},\"zerolinecolor\":\"white\",\"zerolinewidth\":2}}},\"xaxis\":{\"anchor\":\"y\",\"domain\":[0.0,1.0],\"title\":{\"text\":\"error\"}},\"yaxis\":{\"anchor\":\"x\",\"domain\":[0.0,1.0],\"title\":{\"text\":\"count\"}},\"legend\":{\"tracegroupgap\":0},\"margin\":{\"t\":60},\"barmode\":\"relative\",\"width\":800},                        {\"responsive\": true}                    ).then(function(){\n",
              "                            \n",
              "var gd = document.getElementById('1e996531-1b73-4338-bdbb-a9bb8dfdabe0');\n",
              "var x = new MutationObserver(function (mutations, observer) {{\n",
              "        var display = window.getComputedStyle(gd).display;\n",
              "        if (!display || display === 'none') {{\n",
              "            console.log([gd, 'removed!']);\n",
              "            Plotly.purge(gd);\n",
              "            observer.disconnect();\n",
              "        }}\n",
              "}});\n",
              "\n",
              "// Listen for the removal of the full notebook cells\n",
              "var notebookContainer = gd.closest('#notebook-container');\n",
              "if (notebookContainer) {{\n",
              "    x.observe(notebookContainer, {childList: true});\n",
              "}}\n",
              "\n",
              "// Listen for the clearing of the current output cell\n",
              "var outputEl = gd.closest('.output');\n",
              "if (outputEl) {{\n",
              "    x.observe(outputEl, {childList: true});\n",
              "}}\n",
              "\n",
              "                        })                };                            </script>        </div>\n",
              "</body>\n",
              "</html>"
            ]
          },
          "metadata": {}
        }
      ]
    },
    {
      "cell_type": "code",
      "source": [
        "from sklearn.metrics import mean_absolute_error\n",
        "mean_absolute_error(y_true, y_pred)"
      ],
      "metadata": {
        "colab": {
          "base_uri": "https://localhost:8080/"
        },
        "id": "TwH-8FWWYxOs",
        "outputId": "0a86eaae-0741-4fe2-9f10-3e160e667ed1"
      },
      "execution_count": 9,
      "outputs": [
        {
          "output_type": "execute_result",
          "data": {
            "text/plain": [
              "8.234074935101871"
            ]
          },
          "metadata": {},
          "execution_count": 9
        }
      ]
    },
    {
      "cell_type": "code",
      "source": [
        "from sklearn.metrics import mean_squared_error\n",
        "mean_squared_error(y_true, y_pred)"
      ],
      "metadata": {
        "colab": {
          "base_uri": "https://localhost:8080/"
        },
        "id": "eJ62WmMhZYBm",
        "outputId": "626eaf60-410f-4e28-fa95-4e3049e25044"
      },
      "execution_count": 10,
      "outputs": [
        {
          "output_type": "execute_result",
          "data": {
            "text/plain": [
              "107.9466268151327"
            ]
          },
          "metadata": {},
          "execution_count": 10
        }
      ]
    },
    {
      "cell_type": "code",
      "source": [
        "np.sqrt(mean_squared_error(y_true, y_pred))"
      ],
      "metadata": {
        "colab": {
          "base_uri": "https://localhost:8080/"
        },
        "id": "ZOwla9qWZn6K",
        "outputId": "e1a93946-d46c-41fd-82f5-cfc2036281be"
      },
      "execution_count": 11,
      "outputs": [
        {
          "output_type": "execute_result",
          "data": {
            "text/plain": [
              "10.389736609516754"
            ]
          },
          "metadata": {},
          "execution_count": 11
        }
      ]
    },
    {
      "cell_type": "code",
      "source": [
        "from sklearn.metrics import max_error\n",
        "\n",
        "max_error(y_true, y_pred)"
      ],
      "metadata": {
        "colab": {
          "base_uri": "https://localhost:8080/"
        },
        "id": "bqNqXirWZw1B",
        "outputId": "a996bf0b-017d-40ca-8060-2c194ca41c29"
      },
      "execution_count": 13,
      "outputs": [
        {
          "output_type": "execute_result",
          "data": {
            "text/plain": [
              "33.95433251131578"
            ]
          },
          "metadata": {},
          "execution_count": 13
        }
      ]
    },
    {
      "cell_type": "code",
      "source": [
        "from sklearn.metrics import r2_score \n",
        "\n",
        "r2_score(y_true, y_pred)"
      ],
      "metadata": {
        "colab": {
          "base_uri": "https://localhost:8080/"
        },
        "id": "n1XuAi5aaIiE",
        "outputId": "84fa816e-ea3b-4c36-8934-aba23c683ae5"
      },
      "execution_count": 14,
      "outputs": [
        {
          "output_type": "execute_result",
          "data": {
            "text/plain": [
              "0.7250398879407901"
            ]
          },
          "metadata": {},
          "execution_count": 14
        }
      ]
    }
  ]
}